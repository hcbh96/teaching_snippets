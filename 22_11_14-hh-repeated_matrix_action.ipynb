{
 "cells": [
  {
   "cell_type": "markdown",
   "id": "49869f72",
   "metadata": {},
   "source": [
    "# Repeated Matrix Action\n",
    "\n",
    "Objective: Show with reference to questions in the worksheet what it means to repeatedly apply a matrix transofrmation and why we use the eigenvectors and values to perform this.\n",
    "\n",
    "\n",
    "Question from worksheet:\n",
    "\n",
    "![Repeated Matrix Action Questions](./figures/repeated_action_problem.png)\n"
   ]
  },
  {
   "cell_type": "markdown",
   "id": "e2085733",
   "metadata": {},
   "source": [
    "For question 17(c), I’m unsure of what happens Any as n tends to infinity, and for 18(b) I’m just unsure of what happens to the direction of the vector. In my answer for 18(b) I just stated that the vector would move towards the third octant, but I am unsure if that is correct or not.\n",
    "\n",
    "\n",
    "When answering questions to do with matrix powers it is important to remember what eigenvectors represent. Lets start with the charachteristic equation:\n",
    "\n",
    "$$A\\mathbf {u} =\\lambda \\mathbf {u}$$\n",
    "\n",
    "Where $A$ is our initial transformation matrix and $\\mathbf{u}$ is an eigenvector and $\\lambda$ is the eigenvalue. \n",
    "\n",
    "One very imporatant feature of eigenvectors is that they form a linearly indpendent basis set. This means that for \n",
    "\n",
    "$$\\forall \\alpha, \\beta \\in \\mathbb{R},\\text{      } \\alpha\\mathbf{u_1} + \\beta\\mathbf{u_2} \\neq \\mathbf{0}$$\n",
    "\n",
    "Another way of thinking about this is that there are \n",
    "\n"
   ]
  },
  {
   "cell_type": "code",
   "execution_count": null,
   "id": "e02fb7d4",
   "metadata": {},
   "outputs": [],
   "source": []
  }
 ],
 "metadata": {
  "kernelspec": {
   "display_name": "Python 3 (ipykernel)",
   "language": "python",
   "name": "python3"
  },
  "language_info": {
   "codemirror_mode": {
    "name": "ipython",
    "version": 3
   },
   "file_extension": ".py",
   "mimetype": "text/x-python",
   "name": "python",
   "nbconvert_exporter": "python",
   "pygments_lexer": "ipython3",
   "version": "3.8.13"
  }
 },
 "nbformat": 4,
 "nbformat_minor": 5
}
