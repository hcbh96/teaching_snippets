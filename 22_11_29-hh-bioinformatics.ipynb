{
 "cells": [
  {
   "cell_type": "markdown",
   "metadata": {},
   "source": [
    "# Bioinformatics\n",
    "\n",
    "This file contains answers to random questions asked concerning the bioinformatics part of the NST 1B Math Bio course. When answering questions I will overtime attempt to give both a short and a long answer.\n",
    "\n",
    "## How are identical k-mers found and why is this so quick?\n",
    "\n",
    "_tldr; using a hash function on a k-mer means we can use a hash table to find k-mer exact matches. This allows us to reduce any linear or binary time sort complexity to direct lookup's on a hashtable._\n",
    "\n",
    "A k-mer is a substring of length k (where k is a positive integer) that is found within a longer string of nucleic acid or peptide sequences. K-mers are used in bioinformatics and sequence analysis to identify patterns and motifs within a sequence.\n",
    "\n",
    "Hashing helps to quickly locate data that is stored in a hash table or hash map. Hashing generates a unique value based on a key (in this case, the k-mer). This value can then be used to quickly locate the k-mer in the hash table. This makes it much faster to search for a k-mer than it would be to search for it in a linear fashion.\n",
    "\n",
    "A hash map, also known as a hash table, is a data structure that stores key-value pairs. Every key is associated with a unique value, and the key-value pairs are stored in an array. The key is used to generate a hash value, which is then used to quickly locate the associated value. Hash maps provide a fast way to look up values by key.\n",
    "\n",
    "When searching a hash table the key tells us the exact location in the dictionary of the key-value pair, (or hash bucket). The hash table can be seen as an ordered list where the order is based on the hash and the hash provides instructions as to how one finds the location of the key-value pair. This means we don't have to make a key string comparison against each key, to find the correct one. Instead we follow the directions encoded by the hash to find the correct key-value pair.\n",
    "\n",
    "A better an more in depth description of hashmaps and why they result in quick search is provided by [this medium post](https://medium.com/basecs/taking-hash-tables-off-the-shelf-139cbf4752f0).\n",
    "\n",
    "ToDo: provide visual explanation based on k-mers and hashing.\n",
    "\n"
   ]
  },
  {
   "cell_type": "markdown",
   "metadata": {},
   "source": []
  },
  {
   "cell_type": "markdown",
   "metadata": {},
   "source": [
    "## How to calculate time complexity of a function?\n",
    "\n",
    "_One can calculate the time complexity of a function by following 3 steps._\n",
    "1. _Identify the operations performed in the function._\n",
    "2. _Assign a time complexity for each of the operations._\n",
    "3. _Calculate the total time complexity of the function by adding the time complexities of the individual operations._\n",
    "\n",
    "Time complexity is a measure of the amount of time it takes for a program or algorithm to complete its execution. It is typically expressed using Big O notation, which measures the time complexity of an algorithm relative to the size of the input.\n",
    "\n",
    "One can assign a time complexity to an operation by analysing the operation and it's associated datastructure to determine the worst case time complexity. Determine the complexity of each operation based on the type of datastructure (this is why hash tables are important) and the number of elements it contains. For example searching an array of size n has time complexity O(n). If there are multiple operations, combine the time complexities to calculate the total time complexity of the function.\n",
    "\n",
    "ToDo: provide an example using CLUSTAL.\n",
    "\n",
    "### Assessing time complexity of CLUSTAL Omega\n",
    "The CLUSTAL omega algorithm (from [wikipedia](https://en.wikipedia.org/wiki/Clustal)) consists of a few steps:\n",
    "1. Pairwise alignment using k-tuple method.\n",
    "2. Sequence clustering using mBed method.\n",
    "3. Sequence clustering using k-means.\n",
    "4. Guide tree using UPGMA.\n",
    "5. Progressive alignment using HHAlign\n",
    "\n",
    "#### Pairwise alignment using k-tuple method.\n",
    "BLAST or FASTA can be used to do this. If we consider BLAST based on this [stack overflow](https://stackoverflow.com/questions/59454358/what-is-the-time-complexity-of-the-given-blast) we define the BLAST algorihtm as:\n",
    "- O(n): Creating a list of words of length W of the query sequence. \n",
    "- O(n): Search for W words in the database.\n",
    "- O(n^2): Elongation of hit sequences, ie those found, and assignment of a score. This is O(n*m) where m is the number of letter in the query word But as an upper bound we take time as O(n^2).\n",
    "- O(n): These sequences will be given by a local alignment.\n",
    "\n",
    "Where n is the number of elements in the sequence. Thus the algorithm can be asimilated by O(n^2). If we repeat this for all of the steps defined in the CLUSTAL omega algorithm we will find that in no step does the time complexity reach above O(n^2). Thus the time complexity of CLUSTAL can be assimilated by O(n^2).\n",
    "\n",
    "\n",
    "\n"
   ]
  },
  {
   "cell_type": "markdown",
   "metadata": {},
   "source": [
    "## Sequence alignment\n",
    "\n",
    "Sequence alignment is a process of arranging two or more sequences in a way that maximizes the number of matching or similar elements between them. Alignments can be used to compare sequences, find patterns, and infer evolutionary relationships. Sequence alignment can be used to align any type of sequence, including DNA, RNA, proteins, other molecules and even text. Alignment algorithms can also be used to compare multiple sequences at once. The alignment can be done either manually or with bioinformatics software. In order to perform sequence alignment, you will need the two or more sequences you wish to align, as well as a scoring matrix. The scoring matrix is used to assign scores to the matches and mismatches between the two sequences. This score is then used to determine the best alignment of the sequences.\n",
    "\n",
    "The scoring matrix provides one handle to incorporate any prior information or biases about how two sequences should best align. Sequence alignment scoring matrices can include values for matches, mismatches, gaps, and other characteristics of the sequences. The values can be either positive or negative, depending on the type of alignment being performed. Sequence alignment values are not always symmetrical because different matches and mismatches may be given different scores. For example, a match between two amino acids may be given a higher score than a match between two nucleotides. As a result, the scoring matrix will not always be symmetrical.\n",
    "\n",
    "![blossum scoring matrix](./figures/22_30_11-hh-blossum_scoring_matrix.png)\n",
    "\n",
    "Once we have defined a scoring matrix we also need to define a gap penalty. Gap penalties are used to penalize gaps in the alignment of sequences. There are various types of gap penalties: constant, linear and affine, convex and profile based (see [Gap Penalty](https://en.wikipedia.org/wiki/Gap_penalty)). Linear gap penalties assign a fixed penalty for each gap, while affine gap penalties assign a penalty that increases with the length of the gap.\n",
    "\n",
    "We can then solve these pairwise sequence alignment problems using dynamic programming. Dynamic programming is a technique used to solve complex optimization problems by breaking them down into smaller subproblems. It is used in sequence alignment to determine the optimal alignment of two sequences by considering the cost of all possible alignments of the sequences. Common sequence dynamic programming sequence alignment algorithms include the Needleman Wunsch algorithm, the Smith Waterman algorithm. These algorithms are used to align two or more sequences by finding the highest-scoring sequence alignment between the sequences, based on the scorring matrix, sequences and gap penalty.\n",
    "\n",
    "ToDo: Run through an example. Simple in scope but broad in use of affine gap penalty, \n",
    "\n",
    "## Multiple sequences alignment\n",
    "Multiple sequence alignment is a process of aligning two or more biological sequences of nucleic acid (DNA or RNA) or protein to identify regions of similarity that may be indicative of functional, structural, or evolutionary relationships between the sequences. It is generally used in bioinformatics to assist in predicting the structure and function of newly identified molecules. It is also used in evolutionary biology to create phylogenetic trees and study the evolutionary relationships between sequences.\n",
    "\n",
    "Multiple sequence alignment is different from pairwise sequence alignment in that it aligns more than two sequences at once. This allows for comparison of multiple sequences in order to identify common patterns and similarities between them. It also allows for the identification of conserved regions across the aligned sequences, which can be used to make inferences about the function and structure of the sequences. Pairwise sequence alignment, on the other hand, aligns only two sequences at a time, so it is not as useful for making inferences about the sequences.\n",
    "\n",
    "Combining pairwise alignments to make multiple sequence alignments is not possible because pairwise alignments do not take into account the relationships between the sequences. Multiple sequence alignments consider the relationships between the sequences, which is necessary for making inferences about the sequences. Additionally, pairwise alignments do not consider the evolutionary history of the sequences, which is important for making meaningful inferences.\n",
    "\n",
    "Multiple sequence alignment allows us to search for more remote sequences in the ‘twilight-zone’ because it considers the evolutionary history of the sequences. By considering the evolutionary history of the sequences, it is possible to identify conserved regions that may not be present in pairwise alignments, which can then be used to make inferences about the sequences. This allows us to search for more remote sequences that may have diverged significantly from the original sequences.\n",
    "\n",
    "There are various ways to score multiple sequence alignments. The sum of pairs approach is a method of multiple sequence alignment that evaluates a sequence alignment based on the sum of the pairwise similarities between the aligned positions. It is used to evaluate the quality of a multiple sequence alignment and can also be used to identify conserved regions across the aligned sequences.\n",
    "\n",
    "The approach works as follows\n",
    "\n"
   ]
  },
  {
   "cell_type": "markdown",
   "metadata": {},
   "source": []
  },
  {
   "cell_type": "markdown",
   "metadata": {},
   "source": []
  }
 ],
 "metadata": {
  "kernelspec": {
   "display_name": "Python 3.9.13 64-bit",
   "language": "python",
   "name": "python3"
  },
  "language_info": {
   "name": "python",
   "version": "3.9.13"
  },
  "orig_nbformat": 4,
  "vscode": {
   "interpreter": {
    "hash": "b0fa6594d8f4cbf19f97940f81e996739fb7646882a419484c72d19e05852a7e"
   }
  }
 },
 "nbformat": 4,
 "nbformat_minor": 2
}
