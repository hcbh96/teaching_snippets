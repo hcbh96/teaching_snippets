{
 "cells": [
  {
   "cell_type": "markdown",
   "id": "4d7b616a",
   "metadata": {},
   "source": [
    "# Sequence Alignment Using Needleman Wunch\n",
    "\n",
    "Credits to https://johnlekberg.com/blog/2020-10-25-seq-align.html, https://en.wikipedia.org/wiki/Smith%E2%80%93Waterman_algorithm\n",
    "\n",
    "Sequence alignment is the process of lining up two or more sequences of DNA, RNA, or protein to compare them. When two sequences are aligned, they can be compared to look for similarities and differences. This process can help to identify functional, structural, and evolutionary relationships between the sequences. There are many different algorithms available for sequence alignment, including the Smith-Waterman algorithm, the Needleman-Wunsch algorithm, and the BLAST algorithm.\n",
    "\n",
    "In this notebook we will take you through each of the various types of sequence alignment we'll implement them at a basic level and leave improvements open for you to do.\n",
    "\n",
    "\n",
    "\n",
    "## Needleman Wunch\n",
    "The Needleman-Wunsch algorithm is a dynamic programming algorithm used for sequence alignment. It takes two sequences and a scoring matrix as input, and outputs the optimal alignment of the two sequences.\n",
    "\n",
    "To perform the algorithm, first, the scoring matrix is filled in with the scores for each pair of residues. Next, the matrix is filled in from left to right and from top to bottom, with the score for each alignment being the maximum of the three possible alignments. Finally, the optimal alignment is found by tracing back through the matrix from the bottom right corner to the top left corner.\n",
    "\n",
    "## Smith-Walterman\n",
    "\n",
    "The Smith–Waterman algorithm finds the segments in two sequences that have similarities while the Needleman–Wunsch algorithm aligns two complete sequences. Therefore, they serve different purposes. Both algorithms use the concepts of a substitution matrix, a gap penalty function, a scoring matrix, and a traceback process. Three main differences are:\n",
    "\n",
    "![Smith Walterman vs Needleman Wunch comparison](./figures/Smith-Walterman.png)\n",
    "\n",
    "## BLAST\n",
    "\n",
    "\n",
    "## Implementation\n",
    "\n",
    "### Needleman Wunch"
   ]
  },
  {
   "cell_type": "code",
   "execution_count": 8,
   "id": "27df159d",
   "metadata": {},
   "outputs": [
    {
     "data": {
      "text/plain": [
       "[(0, 0), (1, None), (2, 1)]"
      ]
     },
     "execution_count": 8,
     "metadata": {},
     "output_type": "execute_result"
    }
   ],
   "source": [
    "from itertools import product\n",
    "from collections import deque\n",
    "\n",
    "\n",
    "def needleman_wunsch(x, y):\n",
    "    \"\"\"Run the Needleman-Wunsch algorithm on two sequences.\n",
    "\n",
    "    x, y -- sequences.\n",
    "\n",
    "    Code based on pseudocode in Section 3 of:\n",
    "\n",
    "    Naveed, Tahir; Siddiqui, Imitaz Saeed; Ahmed, Shaftab.\n",
    "    \"Parallel Needleman-Wunsch Algorithm for Grid.\" n.d.\n",
    "    https://upload.wikimedia.org/wikipedia/en/c/c4/ParallelNeedlemanAlgorithm.pdf\n",
    "    \"\"\"\n",
    "    N, M = len(x), len(y)\n",
    "    # Scoring function\n",
    "    s = lambda a, b: int(a == b)\n",
    "\n",
    "    DIAG = -1, -1\n",
    "    LEFT = -1, 0\n",
    "    UP = 0, -1\n",
    "\n",
    "    # Create tables F and Ptr\n",
    "    F = {}\n",
    "    Ptr = {}\n",
    "\n",
    "    F[-1, -1] = 0\n",
    "    for i in range(N):\n",
    "        F[i, -1] = -i\n",
    "    for j in range(M):\n",
    "        F[-1, j] = -j\n",
    "    \n",
    "    # Work through matrix, select and record optimal transition\n",
    "    option_Ptr = DIAG, LEFT, UP\n",
    "    for i, j in product(range(N), range(M)):\n",
    "        option_F = (\n",
    "            F[i - 1, j - 1] + s(x[i], y[j]),\n",
    "            F[i - 1, j] - 1,\n",
    "            F[i, j - 1] - 1,\n",
    "        )\n",
    "        # Use max score for transition.\n",
    "        F[i, j], Ptr[i, j] = max(zip(option_F, option_Ptr))\n",
    "\n",
    "    # Work backwards from (N - 1, M - 1) to (0, 0)\n",
    "    # to find the best alignment.\n",
    "    alignment = deque()\n",
    "    i, j = N - 1, M - 1\n",
    "    while i >= 0 and j >= 0:\n",
    "        direction = Ptr[i, j]\n",
    "        if direction == DIAG:\n",
    "            element = i, j\n",
    "        elif direction == LEFT:\n",
    "            element = i, None\n",
    "        elif direction == UP:\n",
    "            element = None, j\n",
    "        alignment.appendleft(element)\n",
    "        di, dj = direction\n",
    "        i, j = i + di, j + dj\n",
    "    while i >= 0:\n",
    "        alignment.appendleft((i, None))\n",
    "        i -= 1\n",
    "    while j >= 0:\n",
    "        alignment.appendleft((None, j))\n",
    "        j -= 1\n",
    "\n",
    "    return list(alignment)\n",
    "\n",
    "needleman_wunsch(\"CAT\", \"CT\")"
   ]
  },
  {
   "cell_type": "markdown",
   "id": "31b26566",
   "metadata": {},
   "source": [
    "### Smith-Walterman\n",
    "Use needleman-wulch as basis."
   ]
  }
 ],
 "metadata": {
  "kernelspec": {
   "display_name": "Python 3 (ipykernel)",
   "language": "python",
   "name": "python3"
  },
  "language_info": {
   "codemirror_mode": {
    "name": "ipython",
    "version": 3
   },
   "file_extension": ".py",
   "mimetype": "text/x-python",
   "name": "python",
   "nbconvert_exporter": "python",
   "pygments_lexer": "ipython3",
   "version": "3.8.13"
  }
 },
 "nbformat": 4,
 "nbformat_minor": 5
}
