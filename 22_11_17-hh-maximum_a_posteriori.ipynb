{
 "cells": [
  {
   "cell_type": "markdown",
   "id": "74828ac8",
   "metadata": {},
   "source": [
    "# Maximum a-posteriori estimation\n",
    "\n",
    "In Bayesian statistics, the maximum a posteriori (MAP) estimate is the mode of the posterior distribution. This is often used as an estimate of the unknown quantity, in Bayesian inference. In probability theory and statistics, Bayes’ theorem (alternatively Bayes’ law or Bayes’ rule) describes the probability of an event, based on prior knowledge of conditions that might be related to the event.\n",
    "\n",
    "Matematically it is represented by the equation:\n",
    "$$p(B|A) = \\frac{p(A|B)p(B)}{p(A)}$$\n",
    "\n",
    "In the case of statistical learning whereby we have some set of samples $\\{(\\mathbf{x},y_i) | i \\in 1, \\dots, N\\}$ alongside some parameter $\\theta \\in \\Theta$ which we wish to optimise, then\n",
    "$$p(\\theta|y, X) = \\frac{p(y|x, \\theta)p(\\theta)}{\\int_\\Theta p(y|x, \\theta)}$$\n",
    "\n",
    "This is an incredibly powerful expression and if we break it down into words it can be easier to appreciate some of the profound but simple statments made in the expression. One one level we are saying that the optimal parameters are those that give greatest probability of us actually observing the evidence $y|x$. Then we see that the probability of a particular parametrisation is actually dependent on our prior beleif in those parameters combined with the evidence. Finally we see that this is all scaled by the set of models we are able to consider. This shows us that we incorporate assumption into our learning at two levels, the first is that of the hypotheses we can't consider and the second is our preference for a hypothesis within the set of hypotheses under consideration.\n",
    "\n",
    "[//]: # (Breaking down and understanding conceptes through the lens of Bayes Theorem is an enlightening task. Consider for example a type I error. A type I error "
   ]
  },
  {
   "cell_type": "code",
   "execution_count": null,
   "id": "c28a4008",
   "metadata": {},
   "outputs": [],
   "source": [
    "\n"
   ]
  },
  {
   "cell_type": "code",
   "execution_count": null,
   "id": "5784ccb1",
   "metadata": {},
   "outputs": [],
   "source": []
  }
 ],
 "metadata": {
  "kernelspec": {
   "display_name": "Python 3 (ipykernel)",
   "language": "python",
   "name": "python3"
  },
  "language_info": {
   "codemirror_mode": {
    "name": "ipython",
    "version": 3
   },
   "file_extension": ".py",
   "mimetype": "text/x-python",
   "name": "python",
   "nbconvert_exporter": "python",
   "pygments_lexer": "ipython3",
   "version": "3.8.13"
  }
 },
 "nbformat": 4,
 "nbformat_minor": 5
}
