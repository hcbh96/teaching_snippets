{
 "cells": [
  {
   "cell_type": "markdown",
   "id": "51996c4d",
   "metadata": {},
   "source": [
    "# Maximum liklihood estimation\n",
    "\n",
    "This notebook will focus on maximum likelihood estimation (MLE). We will run through what MLE is from a mathematical perspective and qualify this using a range of simulation studies whereby we specify some distribution in $\\mathbb{R}^1$ or $\\mathbb{R}^n$ where $n > 1$. \n",
    "\n",
    "\n",
    "## Defining what we are doing\n",
    "- Probabalistic loss function\n",
    "The idea behind MLE is to define a function of the parameters that enables us to fit a the data well. A sensible choice that reflexts these desires is to focus on the liklihood function. When considing data represented by a random variable $x$ and for a familly of probabilities parametrised by $\\theta$ the negative log liklihood is $-logp(x|\\theta)$\n",
    "\n",
    "## Analytical optimisation\n",
    "- Closed form solution\n",
    "\n",
    "## Numerical optimisation\n",
    "- Gradient estimates"
   ]
  },
  {
   "cell_type": "markdown",
   "id": "486736b8",
   "metadata": {},
   "source": [
    "## MLE Examples\n",
    "\n",
    "Simple MLE estimating parameters of a distribution using minimize."
   ]
  },
  {
   "cell_type": "code",
   "execution_count": 74,
   "id": "a554463a",
   "metadata": {},
   "outputs": [
    {
     "name": "stdout",
     "output_type": "stream",
     "text": [
      "Real mean: 2, Pred mu: 2.4427435835938085\n",
      "Real sigma: 5, Pred mu: 4.960710141257992\n"
     ]
    }
   ],
   "source": [
    "import numpy as np\n",
    "from scipy.stats import norm\n",
    "from scipy.optimize import minimize\n",
    "import matplotlib.pyplot as plt\n",
    "import plotly.express as px\n",
    "\n",
    "\n",
    "# Set up parameters to generate data\n",
    "mu = 2\n",
    "sigma = 5\n",
    "N = 100\n",
    "\n",
    "# Generate some data\n",
    "X = np.random.normal(mu, sigma ,N)\n",
    "loc = np.linspace(-10,10,100)\n",
    "\n",
    "# Define initial guess (prior)\n",
    "g_mu = 0\n",
    "g_sigma = 1\n",
    "\n",
    "# Build our prior distribution\n",
    "g_prior = norm.pdf(loc, g_mu, g_sigma)\n",
    "\n",
    "# Define the maximum liklihood expectation.\n",
    "def MLE(params, X):\n",
    "    mu, sigma = params\n",
    "    LL = np.sum(norm.logpdf(X, mu, sigma))\n",
    "    neg_LL = -1*LL\n",
    "    return neg_LL\n",
    "\n",
    "# Minimise the neg log liklihood\n",
    "mle_model = minimize(MLE, np.array([0,1]), args=(X), method='L-BFGS-B')\n",
    "[pred_mu, pred_sigma] = mle_model.x\n",
    "\n",
    "# Print results\n",
    "print(f\"Real mean: {mu}, Pred mu: {pred_mu}\")\n",
    "print(f\"Real sigma: {sigma}, Pred mu: {pred_sigma}\")\n"
   ]
  }
 ],
 "metadata": {
  "kernelspec": {
   "display_name": "Python 3 (ipykernel)",
   "language": "python",
   "name": "python3"
  },
  "language_info": {
   "codemirror_mode": {
    "name": "ipython",
    "version": 3
   },
   "file_extension": ".py",
   "mimetype": "text/x-python",
   "name": "python",
   "nbconvert_exporter": "python",
   "pygments_lexer": "ipython3",
   "version": "3.8.13"
  }
 },
 "nbformat": 4,
 "nbformat_minor": 5
}
