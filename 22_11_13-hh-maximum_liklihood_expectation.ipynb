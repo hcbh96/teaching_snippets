{
 "cells": [
  {
   "cell_type": "markdown",
   "id": "51996c4d",
   "metadata": {},
   "source": [
    "# Maximum liklihood estimation\n",
    "\n",
    "This notebook will focus on maximum likelihood estimation (MLE). We will run through what MLE is from a mathematical perspective and qualify this using a range of simulation studies whereby we specify some distribution in $\\mathbb{R}^1$ or $\\mathbb{R}^n$ where $n > 1$. \n",
    "\n",
    "\n",
    "## Defining what we are doing\n",
    "- Probabalistic loss function\n",
    "\n",
    "## Analytical optimisation\n",
    "- Closed form solution\n",
    "\n",
    "## Numerical optimisation\n",
    "- Gradient estimates"
   ]
  },
  {
   "cell_type": "markdown",
   "id": "486736b8",
   "metadata": {},
   "source": [
    "## MLE Examples"
   ]
  },
  {
   "cell_type": "code",
   "execution_count": 28,
   "id": "a554463a",
   "metadata": {},
   "outputs": [
    {
     "name": "stdout",
     "output_type": "stream",
     "text": [
      "Real mean: 0.2, Pred mu: 0.21071905241246158\n",
      "Real sigma: 0.1, Pred mu: 0.1111008325218695\n"
     ]
    }
   ],
   "source": [
    "import numpy as np\n",
    "from scipy.stats import norm\n",
    "from scipy.optimize import minimize\n",
    "import matplotlib.pyplot as plt\n",
    "import plotly.express as px\n",
    "\n",
    "\n",
    "# Set up parameters to generate data\n",
    "mu = 0.2\n",
    "sigma = .1\n",
    "N = 100\n",
    "\n",
    "# Generate some data\n",
    "X = np.random.normal(mu, sigma ,N)\n",
    "mu_test = np.linspace(-10,10,10)\n",
    "\n",
    "# Define initial guess (prior)\n",
    "g_mu = 0\n",
    "g_sigma = 1\n",
    "\n",
    "# Build our prior distribution\n",
    "g_prior = norm.pdf(mu_test, g_mu, g_sigma)\n",
    "\n",
    "# Build figure to \n",
    "px.line(x=mu_test, y=g_prior)\n",
    "\n",
    "# Define the maximum liklihood expectation.\n",
    "def MLE(params, X):\n",
    "    mu, sigma = params\n",
    "    LL = np.sum(norm.logpdf(X, mu, sigma))\n",
    "    neg_LL = -1*LL\n",
    "    return neg_LL\n",
    "\n",
    "# Using minimise module\n",
    "mle_model = minimize(MLE, np.array([0,1]), args=(X), method='L-BFGS-B')\n",
    "[pred_mu, pred_sigma] = mle_model.x\n",
    "print(f\"Real mean: {mu}, Pred mu: {pred_mu}\")\n",
    "print(f\"Real sigma: {sigma}, Pred mu: {pred_sigma}\")\n"
   ]
  }
 ],
 "metadata": {
  "kernelspec": {
   "display_name": "Python 3 (ipykernel)",
   "language": "python",
   "name": "python3"
  },
  "language_info": {
   "codemirror_mode": {
    "name": "ipython",
    "version": 3
   },
   "file_extension": ".py",
   "mimetype": "text/x-python",
   "name": "python",
   "nbconvert_exporter": "python",
   "pygments_lexer": "ipython3",
   "version": "3.8.13"
  }
 },
 "nbformat": 4,
 "nbformat_minor": 5
}
