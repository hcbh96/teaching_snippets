{
 "cells": [
  {
   "cell_type": "markdown",
   "id": "d50fc885",
   "metadata": {},
   "source": [
    "# Least Squares Estimation\n",
    "\n",
    "This notebook will take the reader through least squares estimation. We will outline what least squares is, after we have done this we will run through least squares from a matematical perspective, we'll then take a look at it from a computational perspective before providing some questions for you as the student to answer.\n",
    "\n",
    "https://pythonnumericalmethods.berkeley.edu/notebooks/chapter16.04-Least-Squares-Regression-in-Python.html helpful notebook.\n",
    "\n",
    "\n",
    "## What is least squares?\n",
    "\n",
    "Assume $y$ to be distrbuted according to some $mathcal{N}(f(X) , \\epsilon I)$, where I is some residual error and $f(X)$ represents some true underlying function. This means we can think of the errors as being distributed according to $\\mathcal{N}(f(x) - y, \\epsilon I)$.\n",
    "\n",
    "This means that to find the optimal $f(X)$ we wish to mimise the average of losses over all of the data otherwise known as the empirical risk. \n",
    "\n",
    "$$\\min_{theta \\in \\mathbb{R}^D} \\frac{1}{N} \\sum_{n=1}^N(y_n - f(x_n, \\theta))^2$$\n",
    "\n",
    "When performing least squares we substitute our predictor for a linear predictor $f(x_n, \\theta) = \\theta^T x_n$ which gives us the optimisation problem\n",
    "\n",
    "$$\\min_{theta \\in \\mathbb{R}^D} \\frac{1}{N} \\sum_{n=1}^N(y_n - \\theta^T x_n)^2$$\n",
    "\n",
    "Expressed in matrix form this is\n",
    "\n",
    "$$\\min_{theta \\in \\mathbb{R}^D} \\frac{1}{N} ||Y - \\theta^T X||^2$$\n",
    "\n",
    "NB. Think Moore-Penrose Inverse where is min and hence how would you calculate least squares analytically.\n",
    "\n",
    "\n",
    "\n",
    "## Computing least squares"
   ]
  },
  {
   "cell_type": "code",
   "execution_count": 13,
   "id": "4c6ff14b",
   "metadata": {},
   "outputs": [
    {
     "data": {
      "image/png": "[encoded data removed]",
      "text/plain": [
       "<Figure size 720x576 with 1 Axes>"
      ]
     },
     "metadata": {
      "needs_background": "light"
     },
     "output_type": "display_data"
    }
   ],
   "source": [
    "import numpy as np\n",
    "from scipy.optimize import least_squares\n",
    "import matplotlib.pyplot as plt\n",
    "\n",
    "#\n",
    "def fun_rosenbrock(x):\n",
    "    return np.array([10 * (x[1] - x[0]**2), (1 - x[0])])\n",
    "\n",
    "# Set up parameters to generate data\n",
    "mu = 2\n",
    "sigma = 5\n",
    "N = 100\n",
    "\n",
    "# Generate some data\n",
    "x = np.linspace(0, 1, N)\n",
    "e = np.random.normal(mu, sigma ,N)\n",
    "y = 1 + x + np.random.random(N)\n",
    "\n",
    "# assemble matrix A\n",
    "A = np.vstack([x, np.ones(len(x))]).T\n",
    "\n",
    "# turn y into a column vector\n",
    "y = y[:, np.newaxis]\n",
    "\n",
    "# Direct least square regression\n",
    "alpha = np.dot((np.dot(np.linalg.inv(np.dot(A.T,A)),A.T)),y)\n",
    "\n",
    "# plot the results\n",
    "plt.figure(figsize = (10,8))\n",
    "plt.plot(x, y, 'b.')\n",
    "plt.plot(x, alpha[0]*x + alpha[1], 'r')\n",
    "plt.xlabel('x')\n",
    "plt.ylabel('y')\n",
    "plt.show()"
   ]
  },
  {
   "cell_type": "markdown",
   "id": "b70879b7",
   "metadata": {},
   "source": [
    "### Moore-penrose inverse\n",
    "\n",
    "$Ax=b \\implies A^TAx=A^Tb \\implies x = (A^TA)^{-1}A^Tb$"
   ]
  },
  {
   "cell_type": "code",
   "execution_count": 15,
   "id": "da4f98d1",
   "metadata": {},
   "outputs": [
    {
     "name": "stdout",
     "output_type": "stream",
     "text": [
      "[[0.90797401]\n",
      " [1.51777217]]\n"
     ]
    }
   ],
   "source": [
    "# Compute the (Moore-Penrose) pseudo-inverse of a matrix.\n",
    "pinv = np.linalg.pinv(A)\n",
    "alpha = pinv.dot(y)\n",
    "print(alpha)"
   ]
  },
  {
   "cell_type": "markdown",
   "id": "654d828f",
   "metadata": {},
   "source": [
    "### Using scipy"
   ]
  },
  {
   "cell_type": "code",
   "execution_count": 32,
   "id": "97b38535",
   "metadata": {},
   "outputs": [
    {
     "data": {
      "text/plain": [
       " active_mask: array([0., 0.])\n",
       "        cost: 0.005030453552800494\n",
       "         fun: array([0.10030407])\n",
       "        grad: array([8.40739029e-10, 2.70810059e-09])\n",
       "         jac: array([[8.38190317e-09, 2.69989094e-08]])\n",
       "     message: '`gtol` termination condition is satisfied.'\n",
       "        nfev: 1\n",
       "        njev: 1\n",
       "  optimality: 2.7081005875470833e-09\n",
       "      status: 1\n",
       "     success: True\n",
       "           x: array([0.90797401, 1.51777217])"
      ]
     },
     "execution_count": 32,
     "metadata": {},
     "output_type": "execute_result"
    }
   ],
   "source": [
    "from scipy.optimize import least_squares\n",
    "\n",
    "# Define loss function to optimise\n",
    "def loss_function(theta, X, y):\n",
    "    val = 0\n",
    "    for i in range(len(y)):\n",
    "        val += (y[i] - np.dot(X[i],theta))**2\n",
    "    return 1/len(y)*val\n",
    "    \n",
    "theta_0 = [0.90797401, 1.51777217]\n",
    "\n",
    "least_squares(loss_function, theta_0, args=(A,y))"
   ]
  }
 ],
 "metadata": {
  "kernelspec": {
   "display_name": "Python 3 (ipykernel)",
   "language": "python",
   "name": "python3"
  },
  "language_info": {
   "codemirror_mode": {
    "name": "ipython",
    "version": 3
   },
   "file_extension": ".py",
   "mimetype": "text/x-python",
   "name": "python",
   "nbconvert_exporter": "python",
   "pygments_lexer": "ipython3",
   "version": "3.8.13"
  }
 },
 "nbformat": 4,
 "nbformat_minor": 5
}
